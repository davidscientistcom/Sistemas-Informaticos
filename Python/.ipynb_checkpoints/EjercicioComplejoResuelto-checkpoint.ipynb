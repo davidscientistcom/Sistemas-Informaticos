{
 "cells": [
  {
   "cell_type": "markdown",
   "id": "e35a3b2c-6ba1-483d-bdae-47de73ac407c",
   "metadata": {},
   "source": [
    "### Enunciado\n",
    "\n",
    "EJERCICIO1\n",
    "\n",
    "Haced un Script en el que:\n",
    "\n",
    "1.- Introduzcamos alumnos de la siguiente forma: \n",
    "\n",
    "alumno1 = [\"David Granados\",4,5,7,8,9,9,10]\n",
    "\n",
    "2.- Se introducirán varios alumnos. \n",
    "\n",
    "3.- Al final deberá de devolver una lista en la que aparezca el nombre del alumno y la media. Esto es lo que debe de devolver el programa.\n",
    "\n",
    "\n",
    "EJERCICIO2 \n",
    "\n",
    "Sobre el script anterior, modificarlo para que te ponga al lado de la nota media, SUSPENSO, APROBADO, BIEN, NOTABLE, SOBRESALIENTE.\n",
    "\n",
    "\n",
    "EJERCICIO3\n",
    "Sobre el script anterior para que cuando nos muestre lo del alumno, aprobado, el nombre y aprobado y todo aparezca siempre en mayúsculas.\n",
    "\n",
    "EJERCICIO4\n",
    "Ampliar el programa anterior para que dependiendo de si quiero los aprobados, los que tienen un bien... o todos, me devuelva la lista de alumnos junto con su media."
   ]
  },
  {
   "cell_type": "code",
   "execution_count": 40,
   "id": "485cac11-9555-4d2e-9d66-5ab16e0d166a",
   "metadata": {},
   "outputs": [],
   "source": [
    "al1 =[\"David Granados\",4,5,7,8,9,9,10]\n",
    "al2 = [\"Toky\",4,7,2,3,9,9] # Ojo, que las notas pueden ser variables.\n",
    "\n",
    "# Aqui meteriamos todos los alumnos que quisieramos. Se podría hacer con funciones.\n",
    "alumnos = list()\n",
    "alumnos.append(al1)\n",
    "alumnos.append(al2)\n",
    "\n",
    " \n",
    "    "
   ]
  },
  {
   "cell_type": "code",
   "execution_count": null,
   "id": "8f9ac53a-896c-42bb-8884-293ba8513115",
   "metadata": {},
   "outputs": [],
   "source": []
  },
  {
   "cell_type": "code",
   "execution_count": 4,
   "id": "6dccda87-e427-4a76-81ef-1c8eb3772711",
   "metadata": {},
   "outputs": [
    {
     "data": {
      "text/plain": [
       "[['David Granados', 4, 5, 7, 8, 9, 9, 10], ['Toky', 4, 5, 2, 3, 9, 3]]"
      ]
     },
     "execution_count": 4,
     "metadata": {},
     "output_type": "execute_result"
    }
   ],
   "source": [
    "alumnos"
   ]
  },
  {
   "cell_type": "code",
   "execution_count": 32,
   "id": "0d1e0212-fab1-40fa-8c81-fde4947bd9a1",
   "metadata": {},
   "outputs": [],
   "source": [
    "# ESTO HAY MUCHAS FORMAS DE HACERLO OS PONGO LA QUE HAY QUE PROGRAMAR\n",
    "\n",
    "def calcularMedia(valores):\n",
    "    total = 0\n",
    "    for v in valores:\n",
    "        total=v+total\n",
    "    return total / len(valores)\n",
    "        "
   ]
  },
  {
   "cell_type": "code",
   "execution_count": 35,
   "id": "34ce338e-a64d-4597-aa49-f21789bec97e",
   "metadata": {},
   "outputs": [],
   "source": [
    "def crearListaMedia(alumnos):\n",
    "    resultado = list()\n",
    "    for alumno in alumnos:\n",
    "        valores = alumno[1:]\n",
    "        media = calcularMedia(valores)\n",
    "        resultado.append( [alumno[0],media] )\n",
    "    return resultado"
   ]
  },
  {
   "cell_type": "code",
   "execution_count": 36,
   "id": "1f98aff4-f06f-4fdc-8509-349353a706d8",
   "metadata": {},
   "outputs": [
    {
     "data": {
      "text/plain": [
       "[['David Granados', 7.428571428571429], ['Toky', 4.333333333333333]]"
      ]
     },
     "execution_count": 36,
     "metadata": {},
     "output_type": "execute_result"
    }
   ],
   "source": [
    "resultado = crearListaMedia(alumnos)\n",
    "resultado"
   ]
  },
  {
   "cell_type": "markdown",
   "id": "2e088c90-7fe8-446f-b5cd-7058c6a8dfd5",
   "metadata": {},
   "source": [
    "### Ejercicio 2\n",
    "Ahora tenemos que modificar la lista que hemos hecho antes para que nos ponga la letra."
   ]
  },
  {
   "cell_type": "code",
   "execution_count": 41,
   "id": "2115119c-5f73-48ac-ba75-d9d9bcfdd2ad",
   "metadata": {},
   "outputs": [],
   "source": [
    "def asignarNotaTexto(numero):\n",
    "    resultado = None\n",
    "    if numero <5:\n",
    "        resultado = 'SUSPENSO'\n",
    "    elif numero >=5 and numero <=6:\n",
    "        resultado = 'BIEN'\n",
    "    elif numero >6 and numero <9:\n",
    "        resultado = 'NOTABLE'\n",
    "    else:\n",
    "        resultado = 'SOBRESALIENTE'\n",
    "\n",
    "    return resultado\n",
    "    \n",
    "        "
   ]
  },
  {
   "cell_type": "code",
   "execution_count": 42,
   "id": "b125291a-fa22-41a1-8674-76e64c870504",
   "metadata": {},
   "outputs": [],
   "source": [
    "def crearListaMedia(alumnos):\n",
    "    resultado = list()\n",
    "    for alumno in alumnos:\n",
    "        valores = alumno[1:]\n",
    "        media = calcularMedia(valores)\n",
    "        resultado.append( [alumno[0],media,asignarNotaTexto(media)] )\n",
    "    return resultado"
   ]
  },
  {
   "cell_type": "code",
   "execution_count": 43,
   "id": "d1dd88ed-1259-4033-9b7a-ba82bf5f74a4",
   "metadata": {},
   "outputs": [
    {
     "data": {
      "text/plain": [
       "[['David Granados', 7.428571428571429, 'NOTABLE'],\n",
       " ['Toky', 5.666666666666667, 'BIEN']]"
      ]
     },
     "execution_count": 43,
     "metadata": {},
     "output_type": "execute_result"
    }
   ],
   "source": [
    "resultado = crearListaMedia(alumnos)\n",
    "resultado"
   ]
  },
  {
   "cell_type": "code",
   "execution_count": null,
   "id": "83036117-28d7-4505-b794-3162b2a4257b",
   "metadata": {},
   "outputs": [],
   "source": [
    "### EJERCICIO3\n"
   ]
  },
  {
   "cell_type": "code",
   "execution_count": 61,
   "id": "5f7aec5a-13ac-4c09-a942-6a1ac9576bfe",
   "metadata": {},
   "outputs": [],
   "source": [
    "al1 = [\"David Granados\",4,5,7,8,9,9,10]\n",
    "al2 = [\"Ivan\",4,5,7,8,9,9,3]\n",
    "\n",
    "alumnos = [al1,al2]"
   ]
  },
  {
   "cell_type": "code",
   "execution_count": 57,
   "id": "77536a00-95d5-4d0f-87df-6e36175d2cd9",
   "metadata": {},
   "outputs": [],
   "source": [
    "def getValores(alumno):\n",
    "    valores = list()\n",
    "    for i in range(1,len(alumno)):\n",
    "        valores.append(alumno[i])\n",
    "    return valores"
   ]
  },
  {
   "cell_type": "code",
   "execution_count": 58,
   "id": "89ec5543-18a2-4d0d-909a-d63681c0490e",
   "metadata": {},
   "outputs": [],
   "source": [
    "valores = getValores([\"David Granados\",4,5,7,8,9,9,10])"
   ]
  },
  {
   "cell_type": "code",
   "execution_count": 62,
   "id": "71e7bdaf-df9f-45f3-a663-0a7468560b00",
   "metadata": {},
   "outputs": [
    {
     "name": "stdout",
     "output_type": "stream",
     "text": [
      "[4, 5, 7, 8, 9, 9, 10]\n",
      "[4, 5, 7, 8, 9, 9, 10]\n"
     ]
    }
   ],
   "source": [
    "for alumno in alumnos:\n",
    "    print( getValores(alumno))"
   ]
  },
  {
   "cell_type": "code",
   "execution_count": null,
   "id": "41b06a65-aef6-4b42-b1a6-5ca42d62f7db",
   "metadata": {},
   "outputs": [],
   "source": []
  }
 ],
 "metadata": {
  "kernelspec": {
   "display_name": "Python 3 (ipykernel)",
   "language": "python",
   "name": "python3"
  },
  "language_info": {
   "codemirror_mode": {
    "name": "ipython",
    "version": 3
   },
   "file_extension": ".py",
   "mimetype": "text/x-python",
   "name": "python",
   "nbconvert_exporter": "python",
   "pygments_lexer": "ipython3",
   "version": "3.12.4"
  }
 },
 "nbformat": 4,
 "nbformat_minor": 5
}
