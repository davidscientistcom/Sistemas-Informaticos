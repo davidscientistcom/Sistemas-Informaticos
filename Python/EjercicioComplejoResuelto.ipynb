{
 "cells": [
  {
   "cell_type": "markdown",
   "id": "e35a3b2c-6ba1-483d-bdae-47de73ac407c",
   "metadata": {},
   "source": [
    "### Enunciado\n",
    "\n",
    "EJERCICIO1\n",
    "\n",
    "Haced un Script en el que:\n",
    "\n",
    "1.- Introduzcamos alumnos de la siguiente forma: \n",
    "\n",
    "alumno1 = [\"David Granados\",4,5,7,8,9,9,10]\n",
    "\n",
    "2.- Se introducirán varios alumnos. \n",
    "\n",
    "3.- Al final deberá de devolver una lista en la que aparezca el nombre del alumno y la media. Esto es lo que debe de devolver el programa.\n",
    "\n",
    "\n",
    "EJERCICIO2 \n",
    "\n",
    "Sobre el script anterior, modificarlo para que te ponga al lado de la nota media, SUSPENSO, APROBADO, BIEN, NOTABLE, SOBRESALIENTE.\n",
    "\n",
    "\n",
    "EJERCICIO3\n",
    "Sobre el script anterior para que cuando nos muestre lo del alumno, aprobado, el nombre y aprobado y todo aparezca siempre en mayúsculas.\n",
    "\n",
    "EJERCICIO4\n",
    "Ampliar el programa anterior para que dependiendo de si quiero los aprobados, los que tienen un bien... o todos, me devuelva la lista de alumnos junto con su media."
   ]
  },
  {
   "cell_type": "code",
   "execution_count": 74,
   "id": "485cac11-9555-4d2e-9d66-5ab16e0d166a",
   "metadata": {},
   "outputs": [],
   "source": [
    "al1 =[\"David Granados\",4,5,7,8,9,9,10]\n",
    "al2 = [\"Toky\",4,7,2,3,9,9] # Ojo, que las notas pueden ser variables.\n",
    "\n",
    "# Aqui meteriamos todos los alumnos que quisieramos. Se podría hacer con funciones.\n",
    "alumnos = list()\n",
    "alumnos.append(al1)\n",
    "alumnos.append(al2)\n",
    "\n",
    " \n",
    "    "
   ]
  },
  {
   "cell_type": "code",
   "execution_count": null,
   "id": "8f9ac53a-896c-42bb-8884-293ba8513115",
   "metadata": {},
   "outputs": [],
   "source": []
  },
  {
   "cell_type": "code",
   "execution_count": 75,
   "id": "6dccda87-e427-4a76-81ef-1c8eb3772711",
   "metadata": {},
   "outputs": [
    {
     "data": {
      "text/plain": [
       "[['David Granados', 4, 5, 7, 8, 9, 9, 10], ['Toky', 4, 7, 2, 3, 9, 9]]"
      ]
     },
     "execution_count": 75,
     "metadata": {},
     "output_type": "execute_result"
    }
   ],
   "source": [
    "alumnos"
   ]
  },
  {
   "cell_type": "code",
   "execution_count": 76,
   "id": "0d1e0212-fab1-40fa-8c81-fde4947bd9a1",
   "metadata": {},
   "outputs": [],
   "source": [
    "# ESTO HAY MUCHAS FORMAS DE HACERLO OS PONGO LA QUE HAY QUE PROGRAMAR\n",
    "\n",
    "def calcularMedia(valores):\n",
    "    total = 0\n",
    "    for v in valores:\n",
    "        total=v+total\n",
    "    return total / len(valores)\n",
    "        "
   ]
  },
  {
   "cell_type": "code",
   "execution_count": 77,
   "id": "34ce338e-a64d-4597-aa49-f21789bec97e",
   "metadata": {},
   "outputs": [],
   "source": [
    "def crearListaMedia(alumnos):\n",
    "    resultado = list()\n",
    "    for alumno in alumnos:\n",
    "        valores = alumno[1:]\n",
    "        media = calcularMedia(valores)\n",
    "        resultado.append( [alumno[0],media] )\n",
    "    return resultado"
   ]
  },
  {
   "cell_type": "code",
   "execution_count": 78,
   "id": "1f98aff4-f06f-4fdc-8509-349353a706d8",
   "metadata": {},
   "outputs": [
    {
     "data": {
      "text/plain": [
       "[['David Granados', 7.428571428571429], ['Toky', 5.666666666666667]]"
      ]
     },
     "execution_count": 78,
     "metadata": {},
     "output_type": "execute_result"
    }
   ],
   "source": [
    "resultado = crearListaMedia(alumnos)\n",
    "resultado"
   ]
  },
  {
   "cell_type": "markdown",
   "id": "2e088c90-7fe8-446f-b5cd-7058c6a8dfd5",
   "metadata": {},
   "source": [
    "### Ejercicio 2\n",
    "Ahora tenemos que modificar la lista que hemos hecho antes para que nos ponga la letra."
   ]
  },
  {
   "cell_type": "code",
   "execution_count": 89,
   "id": "2115119c-5f73-48ac-ba75-d9d9bcfdd2ad",
   "metadata": {},
   "outputs": [],
   "source": [
    "def asignarNotaTexto(numero):\n",
    "    resultado = None\n",
    "    if numero <5:\n",
    "        resultado = 'SUSPENSO'\n",
    "    elif numero >=5 and numero <=7:\n",
    "        resultado = 'BIEN'\n",
    "    elif numero >7 and numero <9:\n",
    "        resultado = 'NOTABLE'\n",
    "    else:\n",
    "        resultado = 'SOBRESALIENTE'\n",
    "\n",
    "    return resultado\n",
    "    \n",
    "        "
   ]
  },
  {
   "cell_type": "code",
   "execution_count": 90,
   "id": "fe81c2bc-104b-45cb-91ce-a791eb45cbd1",
   "metadata": {},
   "outputs": [
    {
     "data": {
      "text/plain": [
       "'BIEN'"
      ]
     },
     "execution_count": 90,
     "metadata": {},
     "output_type": "execute_result"
    }
   ],
   "source": [
    "asignarNotaTexto(6.7)"
   ]
  },
  {
   "cell_type": "code",
   "execution_count": 91,
   "id": "b125291a-fa22-41a1-8674-76e64c870504",
   "metadata": {},
   "outputs": [],
   "source": [
    "def crearListaMedia(alumnos):\n",
    "    resultado = list()\n",
    "    for alumno in alumnos:\n",
    "        valores = alumno[1:]\n",
    "        media = calcularMedia(valores)\n",
    "        resultado.append( [alumno[0],media,asignarNotaTexto(media)] )\n",
    "    return resultado"
   ]
  },
  {
   "cell_type": "code",
   "execution_count": 92,
   "id": "d1dd88ed-1259-4033-9b7a-ba82bf5f74a4",
   "metadata": {},
   "outputs": [
    {
     "data": {
      "text/plain": [
       "[['David Granados', 7.428571428571429, 'NOTABLE'],\n",
       " ['Toky', 5.666666666666667, 'BIEN']]"
      ]
     },
     "execution_count": 92,
     "metadata": {},
     "output_type": "execute_result"
    }
   ],
   "source": [
    "resultado = crearListaMedia(alumnos)\n",
    "resultado"
   ]
  },
  {
   "cell_type": "code",
   "execution_count": 93,
   "id": "83036117-28d7-4505-b794-3162b2a4257b",
   "metadata": {},
   "outputs": [],
   "source": [
    "### EJERCICIO3\n"
   ]
  },
  {
   "cell_type": "code",
   "execution_count": 94,
   "id": "6a0b3553-5da1-4feb-bcb8-42eae27a9462",
   "metadata": {},
   "outputs": [],
   "source": [
    "def filtro(lista,valor):\n",
    "    resultado = list()\n",
    "    for l in lista:\n",
    "        if l[2] == valor:\n",
    "            resultado.append(l)\n",
    "    return l"
   ]
  },
  {
   "cell_type": "code",
   "execution_count": 95,
   "id": "d3b5b02e-4daf-47ee-a610-0a31eee4bd88",
   "metadata": {},
   "outputs": [
    {
     "name": "stdout",
     "output_type": "stream",
     "text": [
      "['Toky', 5.666666666666667, 'BIEN']\n"
     ]
    }
   ],
   "source": [
    "print (filtro(resultado,\"NOTABLE\"))"
   ]
  },
  {
   "cell_type": "code",
   "execution_count": null,
   "id": "32284c65-2c8c-44b0-9393-2885f9f59f54",
   "metadata": {},
   "outputs": [],
   "source": []
  },
  {
   "cell_type": "code",
   "execution_count": null,
   "id": "d573d8bb-a9db-4934-aff9-f8b259881185",
   "metadata": {},
   "outputs": [],
   "source": []
  }
 ],
 "metadata": {
  "kernelspec": {
   "display_name": "Python 3 (ipykernel)",
   "language": "python",
   "name": "python3"
  },
  "language_info": {
   "codemirror_mode": {
    "name": "ipython",
    "version": 3
   },
   "file_extension": ".py",
   "mimetype": "text/x-python",
   "name": "python",
   "nbconvert_exporter": "python",
   "pygments_lexer": "ipython3",
   "version": "3.12.4"
  }
 },
 "nbformat": 4,
 "nbformat_minor": 5
}
