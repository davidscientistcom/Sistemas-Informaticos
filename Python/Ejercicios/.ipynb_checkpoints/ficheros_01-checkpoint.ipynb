{
 "cells": [
  {
   "cell_type": "markdown",
   "id": "3196cfe9-9d92-4b25-bc22-55bb14289c84",
   "metadata": {},
   "source": [
    "##Primero leemos el fichero"
   ]
  },
  {
   "cell_type": "code",
   "execution_count": 46,
   "id": "789ced58-69bf-42c0-935e-144217694861",
   "metadata": {},
   "outputs": [],
   "source": [
    "def es_vacia(cadena):\n",
    "    resultado = True\n",
    "    if len(cadena) > 0:\n",
    "        resultado = False\n",
    "    return resultado"
   ]
  },
  {
   "cell_type": "code",
   "execution_count": 59,
   "id": "3d7d31af-93d7-4825-8b8b-901911276253",
   "metadata": {},
   "outputs": [],
   "source": [
    "def media(datos):\n",
    "    suma = 0\n",
    "    for dato in datos:\n",
    "        suma = dato + suma\n",
    "\n",
    "    return suma / len(datos)\n",
    "        "
   ]
  },
  {
   "cell_type": "code",
   "execution_count": 73,
   "id": "2539f393-f924-4192-81d3-2ac130e0b549",
   "metadata": {},
   "outputs": [],
   "source": [
    "\n",
    "def leer_fichero(nombre_fichero):\n",
    "    resultado = list()\n",
    "    with open(nombre_fichero, \"r\") as archivo:\n",
    "        lineas = archivo.readlines()\n",
    "        for linea in lineas:\n",
    "            linea = linea.strip()\n",
    "            if not es_vacia(linea):\n",
    "               resultado.append(linea)\n",
    "    return resultado"
   ]
  },
  {
   "cell_type": "code",
   "execution_count": 105,
   "id": "cff7b3f4-cbc5-418e-bf79-b6660f93260e",
   "metadata": {},
   "outputs": [],
   "source": [
    "def transformar_datos(datos_sucios):\n",
    "    datos = datos_sucios.split(\", \")\n",
    "    nombre = datos[0]\n",
    "    datos_numericos = datos[1:]\n",
    "    \n",
    "    datos_numericos = [float(i) for i in datos_numericos[0].split(',')]\n",
    "    resultado = [nombre,media(datos_numericos)]\n",
    "    return resultado\n",
    "    \n",
    "\n"
   ]
  },
  {
   "cell_type": "code",
   "execution_count": 113,
   "id": "f19b4e91-4f7b-43f3-9f8c-0dbc2024e78f",
   "metadata": {},
   "outputs": [],
   "source": [
    "datos = leer_fichero(\"datos.txt\")\n",
    "    "
   ]
  },
  {
   "cell_type": "code",
   "execution_count": 114,
   "id": "d2c4028b-184c-4738-b1b8-79ea1693d058",
   "metadata": {},
   "outputs": [
    {
     "data": {
      "text/plain": [
       "['david granados, 9,8,8,9,67', 'linda suarez, 8,5', 'pepe juarez, 9.8,8,4,5']"
      ]
     },
     "execution_count": 114,
     "metadata": {},
     "output_type": "execute_result"
    }
   ],
   "source": [
    "datos"
   ]
  },
  {
   "cell_type": "code",
   "execution_count": 116,
   "id": "cac103b7-71f0-44fd-81a0-de6bccd5fc6e",
   "metadata": {},
   "outputs": [
    {
     "name": "stdout",
     "output_type": "stream",
     "text": [
      "['david granados', 20.2]\n"
     ]
    }
   ],
   "source": [
    "print(transformar_datos(datos[0]))"
   ]
  },
  {
   "cell_type": "code",
   "execution_count": null,
   "id": "650438ae-99f8-453a-8917-1ee78ff20330",
   "metadata": {},
   "outputs": [],
   "source": []
  },
  {
   "cell_type": "code",
   "execution_count": 119,
   "id": "7e812cb6-efca-4b2a-bb74-862085c90c16",
   "metadata": {},
   "outputs": [],
   "source": [
    "with open('output.txt', 'w') as fichero:\n",
    "    for dato in datos:\n",
    "        limpio = transformar_datos(dato)\n",
    "        fichero.write(f\"{limpio[0]}, {limpio[1]}\\n\")\n",
    "    \n"
   ]
  },
  {
   "cell_type": "code",
   "execution_count": null,
   "id": "6c9621dd-86a8-4b21-9eef-15b7e8e6ebe8",
   "metadata": {},
   "outputs": [],
   "source": []
  }
 ],
 "metadata": {
  "kernelspec": {
   "display_name": "Python 3 (ipykernel)",
   "language": "python",
   "name": "python3"
  },
  "language_info": {
   "codemirror_mode": {
    "name": "ipython",
    "version": 3
   },
   "file_extension": ".py",
   "mimetype": "text/x-python",
   "name": "python",
   "nbconvert_exporter": "python",
   "pygments_lexer": "ipython3",
   "version": "3.12.4"
  }
 },
 "nbformat": 4,
 "nbformat_minor": 5
}
